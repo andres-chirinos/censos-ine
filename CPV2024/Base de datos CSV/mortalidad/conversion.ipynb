{
 "cells": [
  {
   "cell_type": "code",
   "execution_count": 5,
   "id": "7fb6122f",
   "metadata": {},
   "outputs": [],
   "source": [
    "import pandas as pd\n",
    "import json"
   ]
  },
  {
   "cell_type": "code",
   "execution_count": 6,
   "id": "7b02c920",
   "metadata": {},
   "outputs": [],
   "source": [
    "def clean_data(df):\n",
    "    df[\"PROV\"] = df[\"idep\"] + df[\"iprov\"]\n",
    "    df[\"MUN\"] = df[\"PROV\"] + df[\"imun\"]\n",
    "    df.columns = df.columns.str.upper()\n",
    "    df = df.rename(\n",
    "        columns={\n",
    "            \"IDEP\": \"DEPAR\",\n",
    "            \"I00\": \"N_VIV\",\n",
    "        }\n",
    "    )\n",
    "    df = df.drop(columns=[\"IMUN\", \"IPROV\"])\n",
    "    df = df[\n",
    "        [\n",
    "            \"DEPAR\",\n",
    "            \"PROV\",\n",
    "            \"MUN\",\n",
    "            \"N_VIV\",\n",
    "            \"M212A_MES\",\n",
    "            \"M212B_AN\",\n",
    "            \"M213_EDAD\",\n",
    "            \"M214_COV\",\n",
    "            \"M215_SEXO\",\n",
    "            \"M216_PARTO\",\n",
    "        ]\n",
    "    ]\n",
    "    df = df.sort_values(by=[\"DEPAR\", \"PROV\", \"MUN\", \"N_VIV\"])\n",
    "    return df\n",
    "\n",
    "\n",
    "df = pd.read_csv(r\"Mortalidad_CPV-2024.csv\", dtype=str, sep=\";\", low_memory=False)\n",
    "\n",
    "df_clean = clean_data(df.copy())\n",
    "df_clean.to_csv(\"mortalidad.csv\", index=False)"
   ]
  },
  {
   "cell_type": "code",
   "execution_count": 7,
   "id": "11cb3da2",
   "metadata": {},
   "outputs": [],
   "source": [
    "fields_path = \"../diccionario/fields.json\""
   ]
  },
  {
   "cell_type": "code",
   "execution_count": 8,
   "id": "a223d74e",
   "metadata": {},
   "outputs": [],
   "source": [
    "with open(fields_path, \"r\", encoding=\"utf-8\") as f:\n",
    "    fields = json.load(f)\n",
    "\n",
    "necessary_columns = df_clean.columns.tolist()\n",
    "fields = [field for field in fields if field.get(\"name\") in necessary_columns]\n",
    "\n",
    "# Crear el datapackage\n",
    "datapackage = {\n",
    "    \"name\": \"mortalidad\",\n",
    "    \"resources\": [\n",
    "        {\n",
    "            \"name\": \"Base de Datos de Mortalidad del Censo de Población y Vivienda\",\n",
    "            \"path\": \"mortalidad.csv\",\n",
    "            \"schema\": {\"fields\": fields},\n",
    "        }\n",
    "    ],\n",
    "}\n",
    "\n",
    "# Guardar el datapackage en un archivo JSON\n",
    "with open(\"datapackage.json\", \"w\", encoding=\"utf-8\") as f:\n",
    "    json.dump(datapackage, f, ensure_ascii=False, indent=4)"
   ]
  }
 ],
 "metadata": {
  "kernelspec": {
   "display_name": ".venv",
   "language": "python",
   "name": "python3"
  },
  "language_info": {
   "codemirror_mode": {
    "name": "ipython",
    "version": 3
   },
   "file_extension": ".py",
   "mimetype": "text/x-python",
   "name": "python",
   "nbconvert_exporter": "python",
   "pygments_lexer": "ipython3",
   "version": "3.13.7"
  }
 },
 "nbformat": 4,
 "nbformat_minor": 5
}
