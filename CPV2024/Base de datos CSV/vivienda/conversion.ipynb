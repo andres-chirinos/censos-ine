{
 "cells": [
  {
   "cell_type": "code",
   "execution_count": 1,
   "id": "ff7688e5-b2bb-4c06-9bad-132f5dad7fbc",
   "metadata": {},
   "outputs": [],
   "source": [
    "import dask\n",
    "import dask.dataframe as dd\n",
    "from dask.diagnostics import ProgressBar\n",
    "import os\n",
    "\n",
    "BLOCKSIZE = \"64MB\"\n",
    "TEMP_DIR = \"./.dask-tmp\"\n",
    "PARQUET_DIR = \"vivienda_parquet_by_mun\"\n",
    "CSV_OUT_DIR = \"vivienda_csv_by_mun\"\n",
    "os.makedirs(TEMP_DIR, exist_ok=True)\n",
    "os.makedirs(CSV_OUT_DIR, exist_ok=True)"
   ]
  },
  {
   "cell_type": "code",
   "execution_count": 2,
   "id": "309c693b-daa5-426c-a45f-4d2b38da4532",
   "metadata": {},
   "outputs": [],
   "source": [
    "dask.config.set({\n",
    "    \"temporary_directory\": TEMP_DIR,\n",
    "})\n",
    "\n",
    "# ---- Lectura en streaming ----\n",
    "ddf = dd.read_csv(\n",
    "    \"Vivienda_CPV-2024.csv\",\n",
    "    dtype=str,\n",
    "    sep=\";\",\n",
    "    blocksize=BLOCKSIZE,\n",
    "    assume_missing=True,\n",
    "    low_memory=False\n",
    ")"
   ]
  },
  {
   "cell_type": "code",
   "execution_count": 3,
   "id": "20058659",
   "metadata": {},
   "outputs": [],
   "source": [
    "for col in [\"idep\", \"iprov\", \"imun\"]:\n",
    "    if col in ddf.columns:\n",
    "        ddf[col] = ddf[col].astype(\"category\")\n",
    "\n",
    "ddf = ddf.assign(\n",
    "    PROV=(ddf[\"idep\"].astype(str) + ddf[\"iprov\"].astype(str)),\n",
    ")\n",
    "ddf = ddf.assign(\n",
    "    MUN=(ddf[\"PROV\"].astype(str) + ddf[\"imun\"].astype(str))\n",
    ")\n",
    "\n",
    "ddf = ddf.rename(columns=str.upper)\n",
    "\n",
    "ddf = ddf.rename(columns={\n",
    "    \"IDEP\": \"DEPAR\",\n",
    "    \"I00\": \"N_VIV\",\n",
    "})"
   ]
  },
  {
   "cell_type": "code",
   "execution_count": 4,
   "id": "668e2848",
   "metadata": {},
   "outputs": [],
   "source": [
    "for c in [\"IMUN\", \"IPROV\"]:\n",
    "    if c in ddf.columns:\n",
    "        ddf = ddf.drop(columns=c)\n",
    "\n",
    "def _reorder_columns(cols):\n",
    "    cols = list(cols)\n",
    "    if \"PROV\" in cols and \"DEPAR\" in cols:\n",
    "        cols.remove(\"PROV\")\n",
    "        idx = cols.index(\"DEPAR\") + 1\n",
    "        cols.insert(idx, \"PROV\")\n",
    "    # mover MUN después de PROV\n",
    "    if \"MUN\" in cols and \"PROV\" in cols:\n",
    "        cols.remove(\"MUN\")\n",
    "        idx = cols.index(\"PROV\") + 1\n",
    "        cols.insert(idx, \"MUN\")\n",
    "    return cols\n",
    "\n",
    "ddf = ddf[_reorder_columns(ddf.columns)]"
   ]
  },
  {
   "cell_type": "code",
   "execution_count": 5,
   "id": "8756dc96",
   "metadata": {},
   "outputs": [
    {
     "name": "stdout",
     "output_type": "stream",
     "text": [
      "[########################################] | 100% Completed | 67.20 s\n"
     ]
    }
   ],
   "source": [
    "with ProgressBar():\n",
    "    ddf.to_parquet(\n",
    "        PARQUET_DIR,\n",
    "        write_index=False,\n",
    "        engine=\"pyarrow\",\n",
    "        compression=\"snappy\",\n",
    "        partition_on=[\"MUN\"]\n",
    "    )\n",
    "\n",
    "pq = dd.read_parquet(PARQUET_DIR, columns=[\"MUN\"],dtype_backend=str)\n",
    "unique_muns = sorted(pq[\"MUN\"].dropna().unique().compute())"
   ]
  },
  {
   "cell_type": "code",
   "execution_count": 6,
   "id": "5e2192b4-d94e-41a8-992c-832735e0936d",
   "metadata": {},
   "outputs": [],
   "source": [
    "writes = []\n",
    "for mun in unique_muns:\n",
    "    ddf_mun = dd.read_parquet(PARQUET_DIR, filters=[(\"MUN\", \"==\", mun)],dtype_backend=str)\n",
    "    writes.append(\n",
    "        ddf_mun.to_csv(\n",
    "            os.path.join(CSV_OUT_DIR, f\"vivienda-municipio-{mun}.csv\"),\n",
    "            single_file=True,\n",
    "            index=False,\n",
    "            header=True\n",
    "        )\n",
    "    )\n",
    "\n",
    "with ProgressBar():\n",
    "    dask.compute(*writes)\n"
   ]
  },
  {
   "cell_type": "code",
   "execution_count": 7,
   "id": "73853312",
   "metadata": {},
   "outputs": [],
   "source": [
    "fields_path = \"../diccionario/fields.json\""
   ]
  },
  {
   "cell_type": "code",
   "execution_count": 8,
   "id": "ceebf0af",
   "metadata": {},
   "outputs": [],
   "source": [
    "import json\n",
    "import pandas as pd"
   ]
  },
  {
   "cell_type": "code",
   "execution_count": 11,
   "id": "c74564c3",
   "metadata": {},
   "outputs": [],
   "source": [
    "df_clean = pd.read_csv(\"vivienda_csv_by_mun/vivienda-municipio-90503.csv\", sep=\",\", dtype=str, nrows=1)\n",
    "\n",
    "with open(fields_path, \"r\", encoding=\"utf-8\") as f:\n",
    "    fields = json.load(f)\n",
    "\n",
    "necessary_columns = df_clean.columns.tolist()\n",
    "fields = [field for field in fields if field.get(\"name\") in necessary_columns]\n",
    "\n",
    "# Crear el datapackage\n",
    "datapackage = {\n",
    "    \"name\": \"vivienda\",\n",
    "    \"resources\": [\n",
    "        {\n",
    "            \"name\": \"Base de Datos de Vivienda del Censo de Población y Vivienda\",\n",
    "            \"path\": \"municipio/vivienda-municipio-*.csv\",\n",
    "            \"schema\": {\"fields\": fields},\n",
    "        }\n",
    "    ],\n",
    "}\n",
    "\n",
    "# Guardar el datapackage en un archivo JSON\n",
    "with open(\"datapackage.json\", \"w\", encoding=\"utf-8\") as f:\n",
    "    json.dump(datapackage, f, ensure_ascii=False, indent=4)"
   ]
  }
 ],
 "metadata": {
  "kernelspec": {
   "display_name": ".venv",
   "language": "python",
   "name": "python3"
  },
  "language_info": {
   "codemirror_mode": {
    "name": "ipython",
    "version": 3
   },
   "file_extension": ".py",
   "mimetype": "text/x-python",
   "name": "python",
   "nbconvert_exporter": "python",
   "pygments_lexer": "ipython3",
   "version": "3.13.7"
  }
 },
 "nbformat": 4,
 "nbformat_minor": 5
}
