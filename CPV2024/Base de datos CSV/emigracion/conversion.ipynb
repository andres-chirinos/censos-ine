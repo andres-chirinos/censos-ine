{
 "cells": [
  {
   "cell_type": "code",
   "execution_count": 18,
   "id": "7fb6122f",
   "metadata": {},
   "outputs": [],
   "source": [
    "import pandas as pd\n",
    "import json"
   ]
  },
  {
   "cell_type": "code",
   "execution_count": null,
   "id": "7b02c920",
   "metadata": {},
   "outputs": [],
   "source": [
    "def clean_data(df):\n",
    "    df[\"PROV\"] = df[\"idep\"] + df[\"iprov\"]\n",
    "    df[\"MUN\"] = df[\"PROV\"] + df[\"imun\"]\n",
    "    df.columns = df.columns.str.upper()\n",
    "    df = df.rename(\n",
    "        columns={\n",
    "            \"IDEP\": \"DEPAR\",\n",
    "            \"I00\": \"N_VIV\",\n",
    "            \"PROV\": \"PROV\",\n",
    "            \"MUN\": \"MUN\",\n",
    "            \"PAIS_DESTINO_COD\": \"PAIS_DES\",\n",
    "        }\n",
    "    )\n",
    "    df = df.drop(columns=[\"IMUN\", \"IPROV\"])\n",
    "    df = df[\n",
    "        [\n",
    "            \"DEPAR\",\n",
    "            \"PROV\",\n",
    "            \"MUN\",\n",
    "            \"N_VIV\",\n",
    "            \"E203_SEXO\",\n",
    "            \"E204_ANSAL\",\n",
    "            \"E205_EDAD\",\n",
    "            \"PAIS_DES\",\n",
    "        ]\n",
    "    ]\n",
    "    df = df.sort_values(by=[\"DEPAR\", \"PROV\", \"MUN\", \"N_VIV\"])\n",
    "    return df\n",
    "\n",
    "\n",
    "df = pd.read_csv(r\"Emigracion_CPV-2024.csv\", dtype=str, sep=\";\", low_memory=False)\n",
    "\n",
    "df_clean = clean_data(df.copy())\n",
    "df_clean.to_csv(\"emigracion.csv\", index=False)"
   ]
  },
  {
   "cell_type": "code",
   "execution_count": 22,
   "id": "11cb3da2",
   "metadata": {},
   "outputs": [],
   "source": [
    "fields_path = \"../diccionario/fields.json\""
   ]
  },
  {
   "cell_type": "code",
   "execution_count": 23,
   "id": "a223d74e",
   "metadata": {},
   "outputs": [],
   "source": [
    "with open(fields_path, \"r\", encoding=\"utf-8\") as f:\n",
    "    fields = json.load(f)\n",
    "\n",
    "necessary_columns = df_clean.columns.tolist()\n",
    "fields = [field for field in fields if field.get(\"name\") in necessary_columns]\n",
    "\n",
    "# Crear el datapackage\n",
    "datapackage = {\n",
    "    \"name\": \"emigracion\",\n",
    "    \"resources\": [\n",
    "        {\n",
    "            \"name\": \"df_clean\",\n",
    "            \"path\": \"emigracion.csv\",\n",
    "            \"schema\": {\"fields\": fields}\n",
    "        }\n",
    "    ]\n",
    "}\n",
    "\n",
    "# Guardar el datapackage en un archivo JSON\n",
    "with open(\"datapackage.json\", \"w\", encoding=\"utf-8\") as f:\n",
    "    json.dump(datapackage, f, ensure_ascii=False, indent=4)"
   ]
  }
 ],
 "metadata": {
  "kernelspec": {
   "display_name": ".venv",
   "language": "python",
   "name": "python3"
  },
  "language_info": {
   "codemirror_mode": {
    "name": "ipython",
    "version": 3
   },
   "file_extension": ".py",
   "mimetype": "text/x-python",
   "name": "python",
   "nbconvert_exporter": "python",
   "pygments_lexer": "ipython3",
   "version": "3.13.7"
  }
 },
 "nbformat": 4,
 "nbformat_minor": 5
}
