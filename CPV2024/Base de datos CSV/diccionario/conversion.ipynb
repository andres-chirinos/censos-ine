{
 "cells": [
  {
   "cell_type": "code",
   "execution_count": 1,
   "id": "521d61de",
   "metadata": {},
   "outputs": [
    {
     "name": "stdout",
     "output_type": "stream",
     "text": [
      "Requirement already satisfied: pandas in /mnt/Archivos/Documents/GitHub/censos-ine/.venv/lib64/python3.13/site-packages (2.3.2)\n",
      "Requirement already satisfied: pyreadstat in /mnt/Archivos/Documents/GitHub/censos-ine/.venv/lib64/python3.13/site-packages (1.3.1)\n",
      "Requirement already satisfied: numpy>=1.26.0 in /mnt/Archivos/Documents/GitHub/censos-ine/.venv/lib64/python3.13/site-packages (from pandas) (2.3.2)\n",
      "Requirement already satisfied: python-dateutil>=2.8.2 in /mnt/Archivos/Documents/GitHub/censos-ine/.venv/lib64/python3.13/site-packages (from pandas) (2.9.0.post0)\n",
      "Requirement already satisfied: pytz>=2020.1 in /mnt/Archivos/Documents/GitHub/censos-ine/.venv/lib64/python3.13/site-packages (from pandas) (2025.2)\n",
      "Requirement already satisfied: tzdata>=2022.7 in /mnt/Archivos/Documents/GitHub/censos-ine/.venv/lib64/python3.13/site-packages (from pandas) (2025.2)\n",
      "Requirement already satisfied: narwhals>=2.0 in /mnt/Archivos/Documents/GitHub/censos-ine/.venv/lib64/python3.13/site-packages (from pyreadstat) (2.3.0)\n",
      "Requirement already satisfied: six>=1.5 in /mnt/Archivos/Documents/GitHub/censos-ine/.venv/lib64/python3.13/site-packages (from python-dateutil>=2.8.2->pandas) (1.17.0)\n"
     ]
    }
   ],
   "source": [
    "!pip install pandas pyreadstat"
   ]
  },
  {
   "cell_type": "code",
   "execution_count": 2,
   "id": "b2f24abc",
   "metadata": {},
   "outputs": [],
   "source": [
    "import pandas as pd\n",
    "import xml.etree.ElementTree as ET\n",
    "import json"
   ]
  },
  {
   "cell_type": "code",
   "execution_count": 7,
   "id": "6e503399",
   "metadata": {},
   "outputs": [],
   "source": [
    "dicx_path = \"CEN24.dicX\"\n",
    "output_path = \"pre.fields.json\""
   ]
  },
  {
   "cell_type": "code",
   "execution_count": 8,
   "id": "e0d2f4ae",
   "metadata": {},
   "outputs": [],
   "source": [
    "tree = ET.parse(dicx_path)\n",
    "root = tree.getroot()\n",
    "\n",
    "fields = []\n",
    "\n",
    "for var in root.findall(\".//variable\"):\n",
    "    name = var.findtext(\"name\", default=\"\").strip().upper()\n",
    "    dtype = var.findtext(\"varType\", default=\"string\").strip().lower()\n",
    "    label = var.findtext(\"label\", default=name).strip()\n",
    "\n",
    "    # Extraer mapeo de valueLabels si existen\n",
    "    vlabels_mapping = {}\n",
    "    value_labels_node = var.find(\"valueLabels\")\n",
    "    if value_labels_node is not None:\n",
    "        for elem in value_labels_node.findall(\"valueLabelElement\"):\n",
    "            value_text = elem.findtext(\"value\", default=\"\").strip()\n",
    "            label_text = elem.findtext(\"label\", default=\"\").strip()\n",
    "            if value_text:\n",
    "                vlabels_mapping[value_text] = label_text\n",
    "\n",
    "    type_map = {\n",
    "        \"integer\": \"integer\",\n",
    "        \"numeric\": \"number\",\n",
    "        \"string\": \"string\",\n",
    "        \"date\": \"date\",\n",
    "    }\n",
    "    ftype = type_map.get(dtype, \"string\")\n",
    "\n",
    "    categories = []\n",
    "    for cat in var.findall(\"Category\"):\n",
    "        code = cat.attrib.get(\"code\")\n",
    "        if code is not None:\n",
    "            try:\n",
    "                code = code  # int(code)\n",
    "            except ValueError:\n",
    "                pass\n",
    "            categories.append(code)\n",
    "\n",
    "    field = {\"name\": name, \"title\": label, \"type\": ftype}\n",
    "    if categories:\n",
    "        field[\"constraints\"] = {\"enum\": categories}\n",
    "    elif vlabels_mapping:\n",
    "        # Si no hay categorías pero se encontró valueLabels, se usa el mapeo\n",
    "        field[\"constraints\"] = {\"enum\": list(vlabels_mapping.keys())}\n",
    "        field[\"valueLabels\"] = vlabels_mapping\n",
    "\n",
    "    fields.append(field)"
   ]
  },
  {
   "cell_type": "code",
   "execution_count": 9,
   "id": "5f135c10",
   "metadata": {},
   "outputs": [
    {
     "name": "stdout",
     "output_type": "stream",
     "text": [
      "✅ Fields generado en pre.fields.json\n"
     ]
    }
   ],
   "source": [
    "with open(output_path, \"w\", encoding=\"utf-8\") as f:\n",
    "    json.dump(fields, f, indent=2, ensure_ascii=False)\n",
    "\n",
    "print(f\"✅ Fields generado en {output_path}\")"
   ]
  }
 ],
 "metadata": {
  "kernelspec": {
   "display_name": ".venv",
   "language": "python",
   "name": "python3"
  },
  "language_info": {
   "codemirror_mode": {
    "name": "ipython",
    "version": 3
   },
   "file_extension": ".py",
   "mimetype": "text/x-python",
   "name": "python",
   "nbconvert_exporter": "python",
   "pygments_lexer": "ipython3",
   "version": "3.13.7"
  }
 },
 "nbformat": 4,
 "nbformat_minor": 5
}
