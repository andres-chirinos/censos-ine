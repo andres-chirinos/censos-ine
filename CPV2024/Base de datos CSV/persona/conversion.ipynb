{
 "cells": [
  {
   "cell_type": "code",
   "execution_count": null,
   "id": "ff7688e5-b2bb-4c06-9bad-132f5dad7fbc",
   "metadata": {},
   "outputs": [],
   "source": [
    "import dask\n",
    "import dask.dataframe as dd\n",
    "from dask.diagnostics import ProgressBar\n",
    "import os\n",
    "\n",
    "BLOCKSIZE = \"64MB\"\n",
    "TEMP_DIR = \"./.dask-tmp\"\n",
    "PARQUET_DIR = \"persona_parquet_by_mun\"\n",
    "CSV_OUT_DIR = \"municipio\"\n",
    "os.makedirs(TEMP_DIR, exist_ok=True)\n",
    "os.makedirs(CSV_OUT_DIR, exist_ok=True)"
   ]
  },
  {
   "cell_type": "code",
   "execution_count": null,
   "id": "309c693b-daa5-426c-a45f-4d2b38da4532",
   "metadata": {},
   "outputs": [],
   "source": [
    "dask.config.set({\n",
    "    \"temporary_directory\": TEMP_DIR,\n",
    "})\n",
    "\n",
    "# ---- Lectura en streaming ----\n",
    "ddf = dd.read_csv(\n",
    "    \"Persona_CPV-2024.csv\",\n",
    "    dtype=str,\n",
    "    sep=\";\",\n",
    "    blocksize=BLOCKSIZE,\n",
    "    assume_missing=True,\n",
    "    low_memory=False\n",
    ")"
   ]
  },
  {
   "cell_type": "code",
   "execution_count": null,
   "id": "5e2192b4-d94e-41a8-992c-832735e0936d",
   "metadata": {},
   "outputs": [
    {
     "name": "stdout",
     "output_type": "stream",
     "text": [
      "[########################################] | 100% Completed | 204.94 s\n"
     ]
    }
   ],
   "source": [
    "for col in [\"idep\", \"iprov\", \"imun\"]:\n",
    "    if col in ddf.columns:\n",
    "        ddf[col] = ddf[col].astype(\"category\")\n",
    "\n",
    "ddf = ddf.assign(\n",
    "    PROV=(ddf[\"idep\"].astype(str) + ddf[\"iprov\"].astype(str)),\n",
    ")\n",
    "ddf = ddf.assign(\n",
    "    MUN=(ddf[\"PROV\"].astype(str) + ddf[\"imun\"].astype(str))\n",
    ")\n",
    "\n",
    "ddf = ddf.rename(columns=str.upper)\n",
    "\n",
    "ddf = ddf.rename(columns={\n",
    "    \"IDEP\": \"DEPAR\",\n",
    "    \"I00\": \"N_VIV\",\n",
    "})\n",
    "\n",
    "for c in [\"IMUN\", \"IPROV\"]:\n",
    "    if c in ddf.columns:\n",
    "        ddf = ddf.drop(columns=c)\n",
    "\n",
    "def _reorder_columns(cols):\n",
    "    cols = list(cols)\n",
    "    if \"PROV\" in cols and \"DEPAR\" in cols:\n",
    "        cols.remove(\"PROV\")\n",
    "        idx = cols.index(\"DEPAR\") + 1\n",
    "        cols.insert(idx, \"PROV\")\n",
    "    # mover MUN después de PROV\n",
    "    if \"MUN\" in cols and \"PROV\" in cols:\n",
    "        cols.remove(\"MUN\")\n",
    "        idx = cols.index(\"PROV\") + 1\n",
    "        cols.insert(idx, \"MUN\")\n",
    "    return cols\n",
    "\n",
    "ddf = ddf[_reorder_columns(ddf.columns)]"
   ]
  },
  {
   "cell_type": "code",
   "execution_count": 5,
   "id": "8756dc96",
   "metadata": {},
   "outputs": [
    {
     "name": "stdout",
     "output_type": "stream",
     "text": [
      "[########################################] | 100% Completed | 486.09 s\n"
     ]
    }
   ],
   "source": [
    "with ProgressBar():\n",
    "    ddf.to_parquet(\n",
    "        PARQUET_DIR,\n",
    "        write_index=False,\n",
    "        engine=\"pyarrow\",\n",
    "        compression=\"snappy\",\n",
    "        partition_on=[\"MUN\"]\n",
    "    )\n",
    "\n",
    "pq = dd.read_parquet(PARQUET_DIR, columns=[\"MUN\"],dtype_backend=str)\n",
    "unique_muns = sorted(pq[\"MUN\"].dropna().unique().compute())"
   ]
  },
  {
   "cell_type": "code",
   "execution_count": null,
   "id": "5e2192b4-d94e-41a8-992c-832735e0936d",
   "metadata": {},
   "outputs": [
    {
     "name": "stdout",
     "output_type": "stream",
     "text": [
      "[########################################] | 100% Completed | 204.94 s\n"
     ]
    }
   ],
   "source": [
    "writes = []\n",
    "for mun in unique_muns:\n",
    "    ddf_mun = dd.read_parquet(PARQUET_DIR, filters=[(\"MUN\", \"==\", mun)],dtype_backend=str)\n",
    "    writes.append(\n",
    "        ddf_mun.to_csv(\n",
    "            os.path.join(CSV_OUT_DIR, f\"persona-municipio-{mun}.csv\"),\n",
    "            single_file=True,\n",
    "            index=False,\n",
    "            header=True\n",
    "        )\n",
    "    )\n",
    "\n",
    "with ProgressBar():\n",
    "    dask.compute(*writes)\n"
   ]
  }
 ],
 "metadata": {
  "kernelspec": {
   "display_name": ".venv",
   "language": "python",
   "name": "python3"
  },
  "language_info": {
   "codemirror_mode": {
    "name": "ipython",
    "version": 3
   },
   "file_extension": ".py",
   "mimetype": "text/x-python",
   "name": "python",
   "nbconvert_exporter": "python",
   "pygments_lexer": "ipython3",
   "version": "3.13.7"
  }
 },
 "nbformat": 4,
 "nbformat_minor": 5
}
